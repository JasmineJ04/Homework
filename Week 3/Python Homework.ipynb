{
 "cells": [
  {
   "cell_type": "markdown",
   "metadata": {},
   "source": [
    ">>>>>>>>>>>>>>>>>>>>>>><span style='font-family:Garamond'>**10/23/2023**                                        \n",
    "# <span style='font-family:Kunstler Script'>**Jasmine J.**\n",
    ">>>>>>### <span style='font-family:Garamond'><span style='color:Blue'>**_Python Homework - Week 3_** \n"
   ]
  },
  {
   "cell_type": "markdown",
   "metadata": {},
   "source": [
    "## <span style='font-family:Garamond'><span style='color:Red'>**Data Types:**\n",
    "\n",
    "### <span style='font-family:Garamond'>1. What is an algorithm?\n",
    "* *An algorithm is considered to be a series of steps to solve a problem at hand.* \n",
    "### <span style='font-family:Garamond'>2. Variable names may not start with certain characters - name two.\n",
    "* *Variables cannot start with numbers.*\n",
    "* *Variables cannot start with or contain symbols besides an underscore.* \n",
    "### <span style='font-family:Garamond'>3. What is a Semantic error?\n",
    "* *A semantic error is grammatically correct code that does not produce the expected results - it doesn't make any sense.*\n",
    "### <span style='font-family:Garamond'>4. What is the #1 rule of coding / debugging?\n",
    "* *The #1 rule of coding/debugging is, complexity is the enemy of efficiency.*\n",
    "\n",
    "### <span style='font-family:Garamond'>5. List 5 Python reserved words.\n",
    "* *False*\n",
    "* *True*\n",
    "* *None*\n",
    "* *if*\n",
    "* *as*\n",
    "\n",
    "\n",
    "\n"
   ]
  },
  {
   "cell_type": "markdown",
   "metadata": {},
   "source": [
    "### <span style='font-family:Garamond'>6. Write a multi-line comment with your name, favorite food, and dream job on 3 different lines."
   ]
  },
  {
   "cell_type": "code",
   "execution_count": 230,
   "metadata": {},
   "outputs": [
    {
     "name": "stdout",
     "output_type": "stream",
     "text": [
      "\n",
      "My name is Jasmine.\n",
      "My favorite food is chicken. \n",
      "My dream job is Data Analyst.\n",
      "\n"
     ]
    }
   ],
   "source": [
    "persons_name  = input('name: ')\n",
    "favorite_food = input('food: ')\n",
    "dream_job = input('job: ')\n",
    "\n",
    "string = f\"\"\"\n",
    "My name is {persons_name}.\n",
    "My favorite food is {favorite_food}. \n",
    "My dream job is {dream_job}.\n",
    "\"\"\"\n",
    "print(string)\n"
   ]
  },
  {
   "cell_type": "markdown",
   "metadata": {},
   "source": [
    "### <span style='font-family:Garamond'>7. Assign 5 different data types to 5 different variables. At least one datatype must be a string \n",
    "* <span style='font-family:Garamond'>Print the length of your string\n",
    "* <span style='font-family:Garamond'>Print the index value of the 4th character in your string"
   ]
  },
  {
   "cell_type": "code",
   "execution_count": 5,
   "metadata": {},
   "outputs": [
    {
     "name": "stdout",
     "output_type": "stream",
     "text": [
      "14\n",
      "j\n"
     ]
    }
   ],
   "source": [
    "variable_one = \"I enjoy coding\"\n",
    "\n",
    "variable_two = 84\n",
    "\n",
    "variable_three = 0.84\n",
    "\n",
    "variable_four = is_student = True\n",
    "\n",
    "variable_five = [\"grapes\", \"apples\", \"plums\"]\n",
    "\n",
    "print(len(variable_one))\n",
    "print(variable_one[4])\n",
    "\n",
    "\n",
    "\n"
   ]
  },
  {
   "cell_type": "markdown",
   "metadata": {},
   "source": [
    "### <span style='font-family:Garamond'>8. Create a new variable called savvy, and assign it the string with this phrase \"Learning Data Analytics and Python is Awesome!\"\n",
    "* <span style='font-family:Garamond'>Return a range of characters that slices the above string from the beginning of \"ing\" up to before \"and\"\n",
    "* <span style='font-family:Garamond'>Replace \"Awesome\" with \"great\" in the string\n",
    "* <span style='font-family:Garamond'>Test and print the savvy string to see it contains \"Python\""
   ]
  },
  {
   "cell_type": "code",
   "execution_count": 232,
   "metadata": {},
   "outputs": [
    {
     "name": "stdout",
     "output_type": "stream",
     "text": [
      "ing Data Analytics\n",
      "Learning Data Analytics and Python is great!\n",
      "Yes,'Python' is present.\n"
     ]
    }
   ],
   "source": [
    "savvy = \"Learning Data Analytics and Python is Awesome!\"\n",
    "\n",
    "print(savvy[5:23])\n",
    "print(savvy.replace(\"Awesome\", \"great\"))\n",
    "if \"Python\" in savvy:\n",
    "    print(\"Yes,'Python' is present.\")"
   ]
  },
  {
   "cell_type": "markdown",
   "metadata": {},
   "source": [
    "### <span style='font-family:Garamond'>9. Create and assign 3 more variables called name, age and length using the multi-variable naming method\n",
    "* <span style='font-family:Garamond'>Format a new string called 'miniBio' using variables in curly brackets to complete this phrase... \"Hi my name is (name), I am (tall) and (so) old today.\"\n",
    "* <span style='font-family:Garamond'>Print 'miniBio'\n",
    "* <span style='font-family:Garamond'>Cast and print the age variable to a float"
   ]
  },
  {
   "cell_type": "code",
   "execution_count": 233,
   "metadata": {},
   "outputs": [
    {
     "name": "stdout",
     "output_type": "stream",
     "text": [
      "Hi my name is Jasmine, I am 63 inches tall and 36 old today.\n",
      "36.0\n"
     ]
    }
   ],
   "source": [
    "name = \"Jasmine\"\n",
    "age = \"36\"\n",
    "length = \"63\"\n",
    "miniBio = f\"Hi my name is {name}, I am {length} inches tall and {age} old today.\"\n",
    "age = float(36)\n",
    "print(miniBio)\n",
    "print(age)\n"
   ]
  },
  {
   "cell_type": "markdown",
   "metadata": {},
   "source": [
    "## <span style='font-family:Garamond'><span style='color:Red'>**Complex Data Types:**\n",
    "### <span style='font-family:Garamond'>10. Create a list of at least 5 elements of mixed data types\n",
    "* <span style='font-family:Garamond'>Replace a part of it with something else\n",
    "* <span style='font-family:Garamond'>Append or insert several more items to the list\n",
    "* <span style='font-family:Garamond'>Find and print the length of the list\n",
    "* <span style='font-family:Garamond'> Slice a sub-section of the 1st list, and save it to a different 2nd list\n",
    "* <span style='font-family:Garamond'>Print the 2nd list\n",
    "* <span style='font-family:Garamond'>Extend your original list with the 2nd list sliced above\n",
    "* <span style='font-family:Garamond'>Create a new list called \"simList\" containing at least 5 elements of the same data type, either string, integer, float, or Boolean\n",
    "* <span style='font-family:Garamond'> Sort \"simList\", and print the list\n",
    "* <span style='font-family:Garamond'>Copy the \"simList\" list to another 3rd list\n",
    "* <span style='font-family:Garamond'>Add the 2nd and 3rd lists together into a 4th list"
   ]
  },
  {
   "cell_type": "code",
   "execution_count": 234,
   "metadata": {},
   "outputs": [
    {
     "name": "stdout",
     "output_type": "stream",
     "text": [
      "Original List - ['Jasmine', '36', '63.75', ['grapes', 'apples', 'plums'], {'practice': 'folder'}]\n",
      "Replaced List - ['Renee', '36', '63.75', ['grapes', 'apples', 'plums'], {'practice': 'folder'}]\n",
      "Appended list - ['Renee', '36', '63.75', ['grapes', 'apples', 'plums'], {'practice': 'folder'}, 'Python Cohort']\n",
      "Length of the inputlist = 6\n",
      "New List - ['Renee', '36', '63.75']\n",
      "Extended List - ['Renee', '36', '63.75', ['grapes', 'apples', 'plums'], {'practice': 'folder'}, 'Python Cohort', 'Renee', '36', '63.75']\n",
      "simList Sorted - [5, 10, 30, 50, 90]\n",
      "Copy simList - [5, 10, 30, 50, 90]\n",
      "New List and Copy simList - ['Renee', '36', '63.75', 5, 10, 30, 50, 90]\n"
     ]
    }
   ],
   "source": [
    "\n",
    "inputlist1 = [\"Jasmine\", \"36\", \"63.75\", [\"grapes\",\"apples\",\"plums\"], {\"practice\" : \"folder\"}]\n",
    "print(\"Original List -\", inputlist1)\n",
    "\n",
    "inputlist1[0] = \"Renee\"\n",
    "print(\"Replaced List -\", inputlist1)\n",
    "\n",
    "inputlist1.append(\"Python Cohort\")\n",
    "print(\"Appended list -\", inputlist1)\n",
    "\n",
    "listlength = len(inputlist1)\n",
    "print(\"Length of the inputlist =\", listlength)\n",
    "\n",
    "inputlist2 = inputlist1[0:3]\n",
    "print(\"New List -\", inputlist2)\n",
    "\n",
    "inputlist1.extend(inputlist2)\n",
    "print(\"Extended List -\", inputlist1)\n",
    "\n",
    "simList = [30, 10, 5, 50, 90]\n",
    "simList.sort()\n",
    "print(\"simList Sorted -\", simList)\n",
    "\n",
    "inputlist3 =simList.copy()\n",
    "print(\"Copy simList -\", inputlist3)\n",
    "\n",
    "inputlist4 = inputlist2 + inputlist3\n",
    "print(\"New List and Copy simList -\", inputlist4)\n",
    "\n",
    "\n",
    "\n",
    "\n",
    "\n",
    "\n"
   ]
  },
  {
   "cell_type": "markdown",
   "metadata": {},
   "source": [
    "### <span style='font-family:Garamond'>11. Create a tuple of about 5 elements\n",
    "* <span style='font-family:Garamond'> Multiply your tuple by 3 and save it to a new 2nd tuple\n",
    "* <span style='font-family:Garamond'>Access and print the 12th element from the 2nd tuple\n",
    "* <span style='font-family:Garamond'>Sort the 2nd tuple and print it\n",
    "* <span style='font-family:Garamond'>Copy 4 specific elements from your 2nd tuple to a new 3nd tuple\n",
    "* <span style='font-family:Garamond'>Unpack the 3rd tuple into 4 variables and print these variables\n",
    "* <span style='font-family:Garamond'>Create a 4th tuple with single item 50 and print this tuple\n",
    "* <span style='font-family:Garamond'>Add the 2nd and 3rd tuple together into a 5th tuple and print the tuple\n"
   ]
  },
  {
   "cell_type": "code",
   "execution_count": 235,
   "metadata": {},
   "outputs": [
    {
     "name": "stdout",
     "output_type": "stream",
     "text": [
      "Tuple 1 = ('Elementary', 'Middle', 'HighSchool', 'Undergraduate', 'Graduate')\n",
      "Tuple 2 = ('Elementary', 'Middle', 'HighSchool', 'Undergraduate', 'Graduate', 'Elementary', 'Middle', 'HighSchool', 'Undergraduate', 'Graduate', 'Elementary', 'Middle', 'HighSchool', 'Undergraduate', 'Graduate')\n",
      "The 12th element in tup 2 = Middle\n",
      "Sorted Tuple 2 = ['Elementary', 'Elementary', 'Elementary', 'Graduate', 'Graduate', 'Graduate', 'HighSchool', 'HighSchool', 'HighSchool', 'Middle', 'Middle', 'Middle', 'Undergraduate', 'Undergraduate', 'Undergraduate']\n",
      "Unpacked Tuple = ('Elementary', 'Middle', 'HighSchool', 'Graduate') ('Graduate', 'Elementary', 'Middle', 'HighSchool')\n",
      "Tuple 4 = 50\n",
      "Tuple 5 = ('Elementary', 'Middle', 'HighSchool', 'Undergraduate', 'Graduate', 'Elementary', 'Middle', 'HighSchool', 'Undergraduate', 'Graduate', 'Elementary', 'Middle', 'HighSchool', 'Undergraduate', 'Graduate', 'Graduate', 'Elementary', 'Middle', 'HighSchool')\n"
     ]
    }
   ],
   "source": [
    "tup1 = 'Elementary', 'Middle', 'HighSchool', 'Undergraduate', 'Graduate'\n",
    "print(\"Tuple 1 =\", tup1)\n",
    "\n",
    "tup2 = tup1 * 3\n",
    "print(\"Tuple 2 =\", tup2)\n",
    "print(\"The 12th element in tup 2 =\", tup2[11])\n",
    "\n",
    "sorted_list =sorted(tup2, reverse=False)\n",
    "print(\"Sorted Tuple 2 =\", sorted_list)\n",
    "\n",
    "tup3 = tup2[4:8]\n",
    "E, A, B, C = tup3\n",
    "print(\"Unpacked Tuple =\",(A, B, C, E),tup3)\n",
    "\n",
    "tup4 = (50)\n",
    "print(\"Tuple 4 =\", tup4)\n",
    "\n",
    "tup5 = tup2 + tup3\n",
    "print(\"Tuple 5 =\", tup5)\n",
    "\n",
    "\n",
    "\n"
   ]
  },
  {
   "cell_type": "markdown",
   "metadata": {},
   "source": [
    "### <span style='font-family:Garamond'>12. Create a set of about 3 elements\n",
    "* <span style='font-family:Garamond'>Add a list of fruits to the above set and print the result\n",
    "* <span style='font-family:Garamond'>Add a car element to your set\n",
    "* <span style='font-family:Garamond'>Create a 2nd set with a few odd items\n",
    "* <span style='font-family:Garamond'>Save the union of 1st set and 2nd set to a 3rd set\n",
    "* <span style='font-family:Garamond'>Pop an element from the 2nd set, and print the remainder of the set\n",
    "* <span style='font-family:Garamond'>Clear the 1st set and print the result\n",
    "* <span style='font-family:Garamond'>Discard an element, and remove another element from the 3rd set\n",
    "* <span style='font-family:Garamond'>Print the remainder of the 3rd set"
   ]
  },
  {
   "cell_type": "code",
   "execution_count": 236,
   "metadata": {},
   "outputs": [
    {
     "name": "stdout",
     "output_type": "stream",
     "text": [
      "Set 1 = {2, 4, 6}\n",
      "Fruit List = ['berries', 'melons', 'pears']\n",
      "Set 1 Update = {2, 4, 6, 'pears', 'berries', 'melons'}\n",
      "Set 1 with Car = {2, 4, 6, 'pears', 'berries', 'melons', 'BMW'}\n",
      "Set 2 = {'squash', 'asparagus', 'bread'}\n",
      "Set 3 = {2, 4, 6, 'asparagus', 'bread', 'pears', 'berries', 'squash', 'melons', 'BMW'}\n",
      "Set 2 Popped = {'asparagus', 'bread'}\n",
      "Cleard Set = set()\n",
      "Reduced Set 3 = {2, 4, 6, 'asparagus', 'bread', 'squash', 'melons', 'BMW'}\n"
     ]
    }
   ],
   "source": [
    "set1 = {2,4,6}\n",
    "print(\"Set 1 =\", set1)\n",
    "\n",
    "Fruits = [\"berries\", \"melons\", \"pears\"]\n",
    "print(\"Fruit List =\", Fruits)\n",
    "\n",
    "set1.update(Fruits)\n",
    "print(\"Set 1 Update =\", set1)\n",
    "\n",
    "set1.add(\"BMW\")\n",
    "print(\"Set 1 with Car =\", set1)\n",
    "\n",
    "set2 = {\"asparagus\",\"bread\",\"squash\"}\n",
    "print(\"Set 2 =\", set2)\n",
    "\n",
    "set3 = set1.union(set2)\n",
    "print(\"Set 3 =\", set3)\n",
    "\n",
    "set2.pop()\n",
    "print(\"Set 2 Popped =\", set2)\n",
    "\n",
    "set1.clear()\n",
    "print(\"Cleard Set =\", set1)\n",
    "\n",
    "set3.discard(\"pears\")\n",
    "set3.remove(\"berries\")\n",
    "print(\"Reduced Set 3 =\", set3)\n",
    "\n",
    "\n",
    "\n",
    "\n",
    "\n"
   ]
  },
  {
   "cell_type": "markdown",
   "metadata": {},
   "source": [
    "### <span style='font-family:Garamond'>13. Create a dictionary with at least 5 values of different data types\n",
    "* <span style='font-family:Garamond'>Print out 1 value\n",
    "* <span style='font-family:Garamond'>Replace any one value in your dictionary with your name\n",
    "* <span style='font-family:Garamond'>Add your favorite color to the dictionary\n",
    "* <span style='font-family:Garamond'>Add a list, tuple or set to your dictionary\n",
    "* <span style='font-family:Garamond'>Print a list of the dictionary keys\n",
    "* <span style='font-family:Garamond'>Print a list of the dictionary values\n",
    "* <span style='font-family:Garamond'>Copy your 1st dictionary into a 2nd dictionary\n",
    "* <span style='font-family:Garamond'>Pop an item from the 2nd dictionary, and print the dictionary\n",
    "* <span style='font-family:Garamond'>Remove all the elements from the 2nd dictionary and print the result"
   ]
  },
  {
   "cell_type": "code",
   "execution_count": 237,
   "metadata": {},
   "outputs": [
    {
     "name": "stdout",
     "output_type": "stream",
     "text": [
      "Dictionary: {'name': 'Jasmine', 'age': 36, 'is_female': True, 'hobbies': ['family', 'reading'], 'location': {'Katy, TX'}}\n",
      "1 value = Jasmine\n",
      "Updated Dictionary: {'name': 'Renee', 'age': 36, 'is_female': True, 'hobbies': ['family', 'reading'], 'location': {'Katy, TX'}}\n",
      "Updated Dictionary w/ favorite color: {'name': 'Renee', 'age': 36, 'is_female': True, 'hobbies': ['family', 'reading'], 'location': {'Katy, TX'}, 'favorite_color': 'Green'}\n",
      "Updated Dictionary w/ list: {'name': 'Renee', 'age': 36, 'is_female': True, 'hobbies': ['family', 'reading', 'vacationing'], 'location': {'Katy, TX'}, 'favorite_color': 'Green'}\n",
      "Dictionary Keys = ['name', 'age', 'is_female', 'hobbies', 'location', 'favorite_color']\n",
      "Dictionary Values = ['Renee', 36, True, ['family', 'reading', 'vacationing'], {'Katy, TX'}, 'Green']\n",
      "Dictionary 2: {'name': 'Renee', 'age': 36, 'is_female': True, 'hobbies': ['family', 'reading', 'vacationing'], 'location': {'Katy, TX'}, 'favorite_color': 'Green'}\n",
      "Dictionary 2 Popped: {'name': 'Renee', 'age': 36, 'hobbies': ['family', 'reading', 'vacationing'], 'location': {'Katy, TX'}, 'favorite_color': 'Green'}\n",
      "Cleared Dictionary 2: {}\n"
     ]
    }
   ],
   "source": [
    "my_dict = {\n",
    "    \"name\": \"Jasmine\",\n",
    "    \"age\" : 36,\n",
    "    \"is_female\" : True,\n",
    "    \"hobbies\":[\"family\", \"reading\"],\n",
    "    \"location\": {\"Katy, TX\"}\n",
    "}\n",
    "print(\"Dictionary:\", my_dict)\n",
    "\n",
    "print(\"1 value =\", my_dict[\"name\"])\n",
    "\n",
    "my_dict[\"name\"] = \"Renee\"\n",
    "print(\"Updated Dictionary:\", my_dict)\n",
    "\n",
    "my_dict[\"favorite_color\"] = \"Green\"\n",
    "print(\"Updated Dictionary w/ favorite color:\", my_dict)\n",
    "\n",
    "my_dict[\"hobbies\"] = [\"family\",\"reading\",\"vacationing\"]\n",
    "print(\"Updated Dictionary w/ list:\", my_dict)\n",
    "\n",
    "key_list = list(my_dict.keys())\n",
    "print(\"Dictionary Keys =\", key_list)\n",
    "\n",
    "value_list =list(my_dict.values())\n",
    "print(\"Dictionary Values =\",value_list)\n",
    "\n",
    "my_dict2 = my_dict.copy()\n",
    "print(\"Dictionary 2:\",my_dict2)\n",
    "\n",
    "my_dict2.pop(\"is_female\")\n",
    "print(\"Dictionary 2 Popped:\", my_dict2)\n",
    "\n",
    "my_dict2.clear()\n",
    "print(\"Cleared Dictionary 2:\", my_dict2 )\n",
    "\n",
    "\n",
    "\n",
    "\n",
    "\n",
    "\n"
   ]
  }
 ],
 "metadata": {
  "kernelspec": {
   "display_name": "Python 3 (ipykernel)",
   "language": "python",
   "name": "python3"
  },
  "language_info": {
   "codemirror_mode": {
    "name": "ipython",
    "version": 3
   },
   "file_extension": ".py",
   "mimetype": "text/x-python",
   "name": "python",
   "nbconvert_exporter": "python",
   "pygments_lexer": "ipython3",
   "version": "3.12.0"
  }
 },
 "nbformat": 4,
 "nbformat_minor": 2
}
