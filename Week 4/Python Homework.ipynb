{
 "cells": [
  {
   "cell_type": "markdown",
   "metadata": {},
   "source": [
    "## _Jasmine J._ \n",
    "\n",
    "## 10/30/23\n",
    "\n",
    "### <span style='color:Red'>_Week 4 - Flow Control, Modules, Functions, Exceptions, NumPy_"
   ]
  },
  {
   "cell_type": "markdown",
   "metadata": {},
   "source": [
    "1. What does one need to do to use a module?\n",
    "    * Import the respective module into the code-base, by using the import statement. "
   ]
  },
  {
   "cell_type": "markdown",
   "metadata": {},
   "source": [
    "2. Name a Module (not the DateTime Module) we looked at and write a line or 2 of code as an example using this module.\n",
    "    * _Python Math Module_\n",
    "        * <span style='color:Red'>_math.sqrt_ \n",
    "        * <span style='color:Green'>**returns the square root of a number** "
   ]
  },
  {
   "cell_type": "code",
   "execution_count": 357,
   "metadata": {},
   "outputs": [
    {
     "name": "stdout",
     "output_type": "stream",
     "text": [
      "The sqrt of 16 is 4.0\n"
     ]
    }
   ],
   "source": [
    "import math\n",
    "number = 16\n",
    "sq_rt = math.sqrt(number)\n",
    "print(\"The sqrt of 16 is\", sq_rt)"
   ]
  },
  {
   "cell_type": "markdown",
   "metadata": {},
   "source": [
    "3. What is a benefit of using Exception handling?\n",
    "    * The benefit of using Exception handling is, identifing errors. Python will stop and generate an error message (an exception) when something goes wrong. "
   ]
  },
  {
   "cell_type": "markdown",
   "metadata": {},
   "source": [
    "4. What are the 4 components used for Python Exception Handling?\n",
    "    * try - Tests a block of code for errors\n",
    "    * except - Handles the error\n",
    "    * else - Executes code when there is NO error\n",
    "    * finally - Executes code, regardless of try and except"
   ]
  },
  {
   "cell_type": "markdown",
   "metadata": {},
   "source": [
    "5. NumPy arrays are like what Python data type?\n",
    "    * NumPy arrays are like Python lists, except NumPy arrays can perform a wide range of math operations."
   ]
  },
  {
   "cell_type": "markdown",
   "metadata": {},
   "source": [
    "6. What is one of the main benefits of using NumPy arrays.\n",
    "    * One of the main benefits of using Numpy arrays is memory-efficiency. The data is stored in sequence blocks which promotes faster execution. "
   ]
  },
  {
   "cell_type": "markdown",
   "metadata": {},
   "source": [
    "7. What is one of the main requirements about the 'dtype' of NumPy arrays?\n",
    "    * All of the elements within a NumPy array must have the same data type because the dtype is homogeneous.\n"
   ]
  },
  {
   "cell_type": "markdown",
   "metadata": {},
   "source": [
    "8. Of the 10 uses of NumPy, name 2.\n",
    "    * Arithmetic operations\n",
    "    * Searching, sorting, and counting\n",
    "\n"
   ]
  },
  {
   "cell_type": "markdown",
   "metadata": {},
   "source": [
    "9. Name one of the other libraries we'll use with NumPy?\n",
    "    * Pandas\n",
    "\n"
   ]
  },
  {
   "cell_type": "markdown",
   "metadata": {},
   "source": [
    "10. What is the shape of NumPy arrays?\n",
    "    * The shape is a tuple of non-negative  integers that specify the dimensions, length and size of each array.\n"
   ]
  },
  {
   "cell_type": "markdown",
   "metadata": {},
   "source": [
    "11. What is a Tensor?\n",
    "    * An array with 3+ dimensions that can hold various data types. \n",
    "\n"
   ]
  },
  {
   "cell_type": "markdown",
   "metadata": {},
   "source": [
    "12. Name a reason why it's better using NumPy for Data Analysis than using a Python List?\n",
    "    * Broadcasting as it allows operations on arrays with different shapes. "
   ]
  },
  {
   "cell_type": "markdown",
   "metadata": {},
   "source": [
    "13. When creating an \"empty\" array, where do the elements come from?\n",
    "    * It creates an array whose initial content is ramdon and depends on the state of the memory and the the array doesn't have its values initialized. "
   ]
  },
  {
   "cell_type": "markdown",
   "metadata": {},
   "source": [
    "## <span style='color:Red'> Flow Control Methods:"
   ]
  },
  {
   "cell_type": "markdown",
   "metadata": {},
   "source": [
    " 1. Create an if statement: if 'age' is greater than or equal to 25, print \"Renting a car is more affordable\", however if 'age' is less than 25, print \"Renting a car is very expensive.\""
   ]
  },
  {
   "cell_type": "code",
   "execution_count": 358,
   "metadata": {},
   "outputs": [
    {
     "name": "stdout",
     "output_type": "stream",
     "text": [
      "Renting a car is more affordable.\n",
      "Renting a car is very expensive.\n"
     ]
    }
   ],
   "source": [
    "age = 25\n",
    "if age >= 25:\n",
    "    print('Renting a car is more affordable.')\n",
    "else:\n",
    "    print('Renting a car is very expensive.')    \n",
    "\n",
    "age = 17\n",
    "if age >= 25:\n",
    "    print('Renting a car is more affordable.')\n",
    "else:\n",
    "    print('Renting a car is very expensive.')        "
   ]
  },
  {
   "cell_type": "markdown",
   "metadata": {},
   "source": [
    "2. Create and chain an if-else statement: if 'age' is greater than or equal to 25, print \"Renting a car is more affordable.\" If 'age' is less than 25 but greater than or equal to 18, print \"Renting a car is very expensive.\" Finally, if age is less than 18, print \"You cannot legally rent a car.\""
   ]
  },
  {
   "cell_type": "code",
   "execution_count": 359,
   "metadata": {},
   "outputs": [
    {
     "name": "stdout",
     "output_type": "stream",
     "text": [
      "Renting a car is more afforable\n",
      "Renting a car is very expensive.\n",
      "You cannot legally rent a car.\n"
     ]
    }
   ],
   "source": [
    "age = 26\n",
    "if age >=25:\n",
    "    print('Renting a car is more afforable')\n",
    "elif age >=18:\n",
    "    print('Renting a car is very expensive.')\n",
    "else:\n",
    "    print('You cannot legally rent a car.')\n",
    "\n",
    "age = 22\n",
    "if age >=25:\n",
    "    print('Renting a car is more afforable')\n",
    "elif age >=18:\n",
    "    print('Renting a car is very expensive.')\n",
    "else:\n",
    "    print('You cannot legally rent a car.') \n",
    "\n",
    "age = 17\n",
    "if age >=25:\n",
    "    print('Renting a car is more afforable')\n",
    "elif age >=18:\n",
    "    print('Renting a car is very expensive.')\n",
    "else:\n",
    "    print('You cannot legally rent a car.')       "
   ]
  },
  {
   "cell_type": "markdown",
   "metadata": {},
   "source": [
    " 3. Loop over the following string to (1) count all the characters in the string and (2) print out all the vowels -- \"The quick brown fox jumps over the lazy dog\""
   ]
  },
  {
   "cell_type": "code",
   "execution_count": 360,
   "metadata": {},
   "outputs": [
    {
     "name": "stdout",
     "output_type": "stream",
     "text": [
      "Total characters in string = 43\n",
      "euioouoeeao\n",
      "Total vowels= 11\n"
     ]
    }
   ],
   "source": [
    "string = 'The quick brown fox jumps over the lazy dog'\n",
    "count = 0\n",
    "vowels = 0\n",
    "\n",
    "for characters in string:\n",
    "    count += 1 \n",
    "print(\"Total characters in string =\", count)\n",
    "for characters in string:\n",
    "    if characters.lower() in \"aeiou\":\n",
    "        vowels += 1 \n",
    "        print(characters, end= '',)\n",
    "print(\"\\nTotal vowels=\", vowels) "
   ]
  },
  {
   "cell_type": "markdown",
   "metadata": {},
   "source": [
    "4. Write a nested loop that prints out every piece of clothing from the couture list, in every fashionable color from the panettone set: couture = [\"trousers\", \"blouse\", \"bandana\", \"cumber band\", \"blazer\", \"vest\", \"french beret\", \"scarf\", \"stole\"] and panettone = {\"cerise\", \"fuchsia\", \"aqua\", \"maple\", \"auburn\", \"burnt sienna\", \"gunmetal blue\", \"Dark Sapphire\"}"
   ]
  },
  {
   "cell_type": "code",
   "execution_count": 361,
   "metadata": {},
   "outputs": [
    {
     "name": "stdout",
     "output_type": "stream",
     "text": [
      "trousers in burnt sienna\n",
      "trousers in aqua\n",
      "trousers in gunmetal blue\n",
      "trousers in Dark Sapphire\n",
      "trousers in maple\n",
      "trousers in auburn\n",
      "trousers in cerise\n",
      "trousers in fuchsia\n",
      "blouse in burnt sienna\n",
      "blouse in aqua\n",
      "blouse in gunmetal blue\n",
      "blouse in Dark Sapphire\n",
      "blouse in maple\n",
      "blouse in auburn\n",
      "blouse in cerise\n",
      "blouse in fuchsia\n",
      "bandana in burnt sienna\n",
      "bandana in aqua\n",
      "bandana in gunmetal blue\n",
      "bandana in Dark Sapphire\n",
      "bandana in maple\n",
      "bandana in auburn\n",
      "bandana in cerise\n",
      "bandana in fuchsia\n",
      "cumber band in burnt sienna\n",
      "cumber band in aqua\n",
      "cumber band in gunmetal blue\n",
      "cumber band in Dark Sapphire\n",
      "cumber band in maple\n",
      "cumber band in auburn\n",
      "cumber band in cerise\n",
      "cumber band in fuchsia\n",
      "blazer in burnt sienna\n",
      "blazer in aqua\n",
      "blazer in gunmetal blue\n",
      "blazer in Dark Sapphire\n",
      "blazer in maple\n",
      "blazer in auburn\n",
      "blazer in cerise\n",
      "blazer in fuchsia\n",
      "vest in burnt sienna\n",
      "vest in aqua\n",
      "vest in gunmetal blue\n",
      "vest in Dark Sapphire\n",
      "vest in maple\n",
      "vest in auburn\n",
      "vest in cerise\n",
      "vest in fuchsia\n",
      "french beret in burnt sienna\n",
      "french beret in aqua\n",
      "french beret in gunmetal blue\n",
      "french beret in Dark Sapphire\n",
      "french beret in maple\n",
      "french beret in auburn\n",
      "french beret in cerise\n",
      "french beret in fuchsia\n",
      "scarf in burnt sienna\n",
      "scarf in aqua\n",
      "scarf in gunmetal blue\n",
      "scarf in Dark Sapphire\n",
      "scarf in maple\n",
      "scarf in auburn\n",
      "scarf in cerise\n",
      "scarf in fuchsia\n",
      "stole in burnt sienna\n",
      "stole in aqua\n",
      "stole in gunmetal blue\n",
      "stole in Dark Sapphire\n",
      "stole in maple\n",
      "stole in auburn\n",
      "stole in cerise\n",
      "stole in fuchsia\n"
     ]
    }
   ],
   "source": [
    "couture = [\"trousers\", \"blouse\", \"bandana\", \"cumber band\", \"blazer\", \"vest\", \"french beret\", \"scarf\", \"stole\"]\n",
    "panettone =  {\"cerise\", \"fuchsia\", \"aqua\", \"maple\", \"auburn\", \"burnt sienna\", \"gunmetal blue\", \"Dark Sapphire\"}\n",
    "\n",
    "for clothing in couture:\n",
    "    for color in panettone:\n",
    "        print(f\"{clothing} in {color}\")"
   ]
  },
  {
   "cell_type": "markdown",
   "metadata": {},
   "source": [
    "5. Use range as a loop to calculate the sum of all the numbers from 1 to 100"
   ]
  },
  {
   "cell_type": "code",
   "execution_count": 362,
   "metadata": {},
   "outputs": [
    {
     "name": "stdout",
     "output_type": "stream",
     "text": [
      "The calculation for numbers 1 to 100 = 5050\n"
     ]
    }
   ],
   "source": [
    "Total = 0\n",
    "for number in range(1, 1 + 100):\n",
    "    Total += number\n",
    "print(\"The calculation for numbers 1 to 100 =\", Total)"
   ]
  },
  {
   "cell_type": "markdown",
   "metadata": {},
   "source": [
    "6. Print the second item in this fruits list. [\"apple\", \"banana\", \"cherry\"]\n"
   ]
  },
  {
   "cell_type": "code",
   "execution_count": 363,
   "metadata": {},
   "outputs": [
    {
     "name": "stdout",
     "output_type": "stream",
     "text": [
      "The second fruit in fruits is: banana\n"
     ]
    }
   ],
   "source": [
    "fruits = [\"apple\", \"banana\", \"cherry\"]\n",
    "for item in range(len(fruits)):\n",
    "    if item == 1:\n",
    "      print(\"The second fruit in fruits is:\", fruits[item])"
   ]
  },
  {
   "cell_type": "markdown",
   "metadata": {},
   "source": [
    "7. Change the value from \"apple\" to \"kiwi\", in the fruits list. [\"apple\", \"banana\", \"cherry\"]"
   ]
  },
  {
   "cell_type": "code",
   "execution_count": 364,
   "metadata": {},
   "outputs": [
    {
     "name": "stdout",
     "output_type": "stream",
     "text": [
      "New fruits list: ['kiwi', 'banana', 'cherry']\n"
     ]
    }
   ],
   "source": [
    "fruits = [\"apple\",\"banana\",\"cherry\"]\n",
    "fruits[0] = \"kiwi\"\n",
    "print(\"New fruits list:\", fruits)"
   ]
  },
  {
   "cell_type": "markdown",
   "metadata": {},
   "source": [
    "8. Use the append method to add \"orange\" to the fruits list. [\"apple\", \"banana\", \"cherry\"]"
   ]
  },
  {
   "cell_type": "code",
   "execution_count": 365,
   "metadata": {},
   "outputs": [
    {
     "name": "stdout",
     "output_type": "stream",
     "text": [
      "Appended fruit list: ['apple', 'banana', 'cherry', 'orange']\n"
     ]
    }
   ],
   "source": [
    "fruits = [\"apple\",\"banana\",\"cherry\"]\n",
    "fruits.append(\"orange\")\n",
    "print(\"Appended fruit list:\", fruits)"
   ]
  },
  {
   "cell_type": "markdown",
   "metadata": {},
   "source": [
    "9. Use the insert method to add \"lemon\" as the second item in the fruits list. [\"apple\", \"banana\", \"cherry\"]\n",
    "\n"
   ]
  },
  {
   "cell_type": "code",
   "execution_count": 366,
   "metadata": {},
   "outputs": [
    {
     "name": "stdout",
     "output_type": "stream",
     "text": [
      "New fruit list: ['apple', 'lemon', 'banana', 'cherry']\n"
     ]
    }
   ],
   "source": [
    "fruitlist = [\"apple\",\"banana\",\"cherry\"]\n",
    "fruit = \"lemon\"\n",
    "for produce in range(len(fruitlist)):\n",
    "    if produce == 1:\n",
    "        fruitlist.insert(1, fruit)\n",
    "        print(\"New fruit list:\", fruitlist)"
   ]
  },
  {
   "cell_type": "markdown",
   "metadata": {},
   "source": [
    "10. Use the remove method to remove \"banana\" from the fruits list. [\"apple\", \"banana\", \"cherry\"]"
   ]
  },
  {
   "cell_type": "code",
   "execution_count": 367,
   "metadata": {},
   "outputs": [
    {
     "name": "stdout",
     "output_type": "stream",
     "text": [
      "Reduced fruit list: ['apple', 'cherry']\n"
     ]
    }
   ],
   "source": [
    "fruits = [\"apple\",\"banana\",\"cherry\"]\n",
    "while \"banana\" in fruits:\n",
    "    fruits.remove(\"banana\")\n",
    "    print(\"Reduced fruit list:\", fruits)"
   ]
  },
  {
   "cell_type": "markdown",
   "metadata": {},
   "source": [
    "11. Use negative indexing to print the 3rd and 2nd to last items in the list. [\"apple\", \"banana\", \"cherry\", \"orange\", \"kiwi\", \"melon\", \"mango\"]"
   ]
  },
  {
   "cell_type": "code",
   "execution_count": 368,
   "metadata": {},
   "outputs": [
    {
     "name": "stdout",
     "output_type": "stream",
     "text": [
      "Index positions = {'kiwi'} {'melon'}\n"
     ]
    }
   ],
   "source": [
    "fruits = [\"apple\", \"banana\", \"cherry\", \"orange\", \"kiwi\", \"melon\", \"mango\"]\n",
    "pos1 = 0\n",
    "pos2 = 0\n",
    "for produce, item in enumerate(fruits):\n",
    "    if produce == len(fruits) -3:\n",
    "        pos1 = item\n",
    "    elif produce == len(fruits) -2:\n",
    "        pos2 = item\n",
    "        break \n",
    "print(\"Index positions =\", {pos1},{pos2})"
   ]
  },
  {
   "cell_type": "markdown",
   "metadata": {},
   "source": [
    "12. Use a range of indexes to print the third, fourth, and fifth item in the list. [\"apple\", \"banana\", \"cherry\", \"orange\", \"kiwi\", \"melon\", \"mango\"]"
   ]
  },
  {
   "cell_type": "code",
   "execution_count": 369,
   "metadata": {},
   "outputs": [
    {
     "name": "stdout",
     "output_type": "stream",
     "text": [
      "cherry, orange, kiwi, "
     ]
    }
   ],
   "source": [
    "fruits = [\"apple\", \"banana\", \"cherry\", \"orange\", \"kiwi\", \"melon\", \"mango\"]\n",
    "produce = fruits[2:5]\n",
    "for items in produce:\n",
    "    print(items, end=', ')"
   ]
  },
  {
   "cell_type": "markdown",
   "metadata": {},
   "source": [
    "13. Use the correct syntax to print the number of items in the list. [\"apple\", \"banana\", \"cherry\", \"orange\", \"kiwi\", \"melon\", \"mango\"]"
   ]
  },
  {
   "cell_type": "code",
   "execution_count": 370,
   "metadata": {},
   "outputs": [
    {
     "name": "stdout",
     "output_type": "stream",
     "text": [
      "Fruit count = 7\n"
     ]
    }
   ],
   "source": [
    "fruits = [\"apple\", \"banana\", \"cherry\", \"orange\", \"kiwi\", \"melon\", \"mango\"]\n",
    "count = 0\n",
    "for number in fruits:\n",
    "    count += 1\n",
    "print(\"Fruit count =\", count)"
   ]
  },
  {
   "cell_type": "markdown",
   "metadata": {},
   "source": [
    "14. Use the correct syntax to sort this list in reverse order [\"apple\", \"banana\", \"cherry\", \"orange\", \"kiwi\", \"melon\", \"mango\"]"
   ]
  },
  {
   "cell_type": "code",
   "execution_count": 371,
   "metadata": {},
   "outputs": [
    {
     "name": "stdout",
     "output_type": "stream",
     "text": [
      "Reversed Order: mango, melon, kiwi, orange, cherry, banana, apple, "
     ]
    }
   ],
   "source": [
    "fruits = [\"apple\", \"banana\", \"cherry\", \"orange\", \"kiwi\", \"melon\", \"mango\"]\n",
    "reverse_order = True\n",
    "if reverse_order:\n",
    "    print(\"Reversed Order:\", end=' ')\n",
    "    for fruit in reversed(fruits):\n",
    "        print(fruit, end= ', ')"
   ]
  },
  {
   "cell_type": "markdown",
   "metadata": {},
   "source": [
    "## <span style='color:Red'> Use a Python code file for this section:"
   ]
  },
  {
   "cell_type": "markdown",
   "metadata": {},
   "source": [
    "15. Use the DateTime module to get Current Date and Time, and save it to a variable. Then extract just the Full month name form that variable."
   ]
  },
  {
   "cell_type": "code",
   "execution_count": 372,
   "metadata": {},
   "outputs": [
    {
     "name": "stdout",
     "output_type": "stream",
     "text": [
      "The current month is: October\n"
     ]
    }
   ],
   "source": [
    "import datetime\n",
    "current_date = datetime.datetime.now()\n",
    "current_month = current_date.strftime(\"%B\")\n",
    "print(\"The current month is:\", current_month)\n"
   ]
  },
  {
   "cell_type": "markdown",
   "metadata": {},
   "source": [
    "16. Write a simple function that takes 2 parameters -- a first name and a day name.\n",
    "    * Set a default value for the day name of Sunday.\n",
    "    * Have the function print out a greeting -- using the parameters -- that says something like \"Hi first-name! Happy day-name!\". Remember to use the variables in the greeting to replace first-name and day-name.\n",
    "    * Invoke this function with 2 variables.\n",
    "    * Invoke this function with 1 variable only."
   ]
  },
  {
   "cell_type": "code",
   "execution_count": 373,
   "metadata": {},
   "outputs": [
    {
     "name": "stdout",
     "output_type": "stream",
     "text": [
      "Hi Jasmine! Happy Saturday!\n",
      "Hi J.Renee! Happy Saturday!\n"
     ]
    }
   ],
   "source": [
    "def greeting(name, day=\"Saturday\"):\n",
    "    greeting = f\"Hi {name}! Happy {day}!\"\n",
    "    print(greeting)\n",
    "greeting(\"Jasmine\", \"Saturday\")\n",
    "greeting(\"J.Renee\")"
   ]
  },
  {
   "cell_type": "markdown",
   "metadata": {},
   "source": [
    "17. Write a block of code to handle one of the most common Python exception errors. Select one of the common errors from the curriculum section on Python Exception handling. Have your code example uses the try,except, else, and finally components"
   ]
  },
  {
   "cell_type": "code",
   "execution_count": 374,
   "metadata": {},
   "outputs": [
    {
     "name": "stdout",
     "output_type": "stream",
     "text": [
      "Hello\n",
      "Nothing went wrong\n",
      "The 'Python Exception handling' is finished\n",
      "An exception occurred\n",
      "The 'Python Exception handling' is finished\n"
     ]
    }
   ],
   "source": [
    "try: \n",
    "    print(\"Hello\")\n",
    "except:\n",
    "    print(\"Something went wrong\")\n",
    "else:\n",
    "    print(\"Nothing went wrong\")\n",
    "finally:\n",
    "    print(\"The 'Python Exception handling' is finished\")\n",
    "\n",
    "try:\n",
    "    print(u)\n",
    "except:\n",
    "    print(\"An exception occurred\")\n",
    "else:\n",
    "    print(\"Nothing went wrong\")\n",
    "finally:\n",
    "    print(\"The 'Python Exception handling' is finished\")"
   ]
  }
 ],
 "metadata": {
  "kernelspec": {
   "display_name": "Python 3",
   "language": "python",
   "name": "python3"
  },
  "language_info": {
   "codemirror_mode": {
    "name": "ipython",
    "version": 3
   },
   "file_extension": ".py",
   "mimetype": "text/x-python",
   "name": "python",
   "nbconvert_exporter": "python",
   "pygments_lexer": "ipython3",
   "version": "3.12.0"
  }
 },
 "nbformat": 4,
 "nbformat_minor": 2
}
