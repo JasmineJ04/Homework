{
 "cells": [
  {
   "cell_type": "markdown",
   "metadata": {},
   "source": [
    "# Jasmine J.\n",
    "\n",
    "## 11-06-2023\n",
    "\n",
    "## Week 5 - Python Homework (Numpy, Pandas)\n"
   ]
  },
  {
   "cell_type": "markdown",
   "metadata": {},
   "source": [
    "1. What does Pandas stand for?\n",
    "* Stands for either:\n",
    "    Panel Data\n",
    "    Python Data Analysis\n"
   ]
  },
  {
   "cell_type": "markdown",
   "metadata": {},
   "source": [
    "2. What are the 2 collections used in Pandas?\n",
    "* Series and Dataframes:\n",
    "In Pandas, a Series is essentially a column, and a DataFrame is a two-dimensional table made up of a collection of Series."
   ]
  },
  {
   "cell_type": "markdown",
   "metadata": {},
   "source": [
    "3. Name 4 things Pandas can do for us.\n",
    "* Pandas can do:\n",
    " Data Cleansing\t\n",
    " Data normalization\t\n",
    " Data visualization\t\n",
    " Data inspection\t \n",
    "\n"
   ]
  },
  {
   "cell_type": "markdown",
   "metadata": {},
   "source": [
    "4. To permanently sort a DataFrame, which keyword should one use with the df.sort() method?\n",
    "* The keyword to use is 'inplace'.\n"
   ]
  },
  {
   "cell_type": "markdown",
   "metadata": {},
   "source": [
    "5. What is a CSV?\n",
    "* A CSV is a comma separated file. \n"
   ]
  },
  {
   "cell_type": "markdown",
   "metadata": {},
   "source": [
    "6. When cleaning data what values do we not like in our data?\n",
    "* Null values"
   ]
  },
  {
   "cell_type": "markdown",
   "metadata": {},
   "source": [
    "# Coding Exericises"
   ]
  },
  {
   "cell_type": "markdown",
   "metadata": {},
   "source": [
    "7. Import NumPy, use one of the NumPy methods and create an array with a shape of (2, 3, 2). You can use the reshape method -- .reshape()"
   ]
  },
  {
   "cell_type": "code",
   "execution_count": 37,
   "metadata": {},
   "outputs": [
    {
     "name": "stdout",
     "output_type": "stream",
     "text": [
      "[[[ 1  2]\n",
      "  [ 3  4]\n",
      "  [ 5  6]]\n",
      "\n",
      " [[ 7  8]\n",
      "  [ 9 10]\n",
      "  [11 12]]]\n"
     ]
    }
   ],
   "source": [
    "import numpy as np\n",
    "\n",
    "array1 = np.array([1, 2, 3, 4, 5, 6, 7, 8, 9, 10, 11, 12])\n",
    "reshaped_array = array1.reshape(2, 3, 2)\n",
    "print(reshaped_array)\n"
   ]
  },
  {
   "cell_type": "markdown",
   "metadata": {},
   "source": [
    "8. Use NumPy .linspace() to create an array with 6 linearly spaced values between 0 and 20"
   ]
  },
  {
   "cell_type": "code",
   "execution_count": 38,
   "metadata": {},
   "outputs": [
    {
     "name": "stdout",
     "output_type": "stream",
     "text": [
      "[ 0.  4.  8. 12. 16. 20.]\n"
     ]
    }
   ],
   "source": [
    "import numpy as np\n",
    "array_a = np.linspace(0,20,6)\n",
    "print(array_a)"
   ]
  },
  {
   "cell_type": "markdown",
   "metadata": {},
   "source": [
    "9. Make a Deep Copy of the above array"
   ]
  },
  {
   "cell_type": "code",
   "execution_count": 39,
   "metadata": {},
   "outputs": [
    {
     "name": "stdout",
     "output_type": "stream",
     "text": [
      "[ 0.  4.  8. 12. 16. 20.]\n"
     ]
    }
   ],
   "source": [
    "import numpy as np\n",
    "\n",
    "array_a = np.linspace(0, 20, 6)\n",
    "\n",
    "array_a_copy = np.copy(array_a)\n",
    "\n",
    "print(array_a_copy)"
   ]
  },
  {
   "cell_type": "markdown",
   "metadata": {},
   "source": [
    "10. Concatenate these 3 arrays into a new array named 'newArray'.."
   ]
  },
  {
   "cell_type": "code",
   "execution_count": 40,
   "metadata": {},
   "outputs": [
    {
     "name": "stdout",
     "output_type": "stream",
     "text": [
      "[[25 16]\n",
      " [11  2]\n",
      " [13  4]\n",
      " [ 7 81]\n",
      " [ 5  6]\n",
      " [11 12]]\n"
     ]
    }
   ],
   "source": [
    "import numpy as np\n",
    "array1 = np.array([[25, 16]])\n",
    "array2 = np.array([[11, 2], [13, 4]])\n",
    "array3 = np.array([[7, 81], [5, 6], [11, 12]])\n",
    "\n",
    "newArray = np.concatenate((array1, array2, array3), axis = 0)\n",
    "print(newArray)"
   ]
  },
  {
   "cell_type": "markdown",
   "metadata": {},
   "source": [
    "11. Sort 'newArray' in order into 'sortedArray"
   ]
  },
  {
   "cell_type": "code",
   "execution_count": 41,
   "metadata": {},
   "outputs": [
    {
     "name": "stdout",
     "output_type": "stream",
     "text": [
      "[[16 25]\n",
      " [ 2 11]\n",
      " [ 4 13]\n",
      " [ 7 81]\n",
      " [ 5  6]\n",
      " [11 12]]\n"
     ]
    }
   ],
   "source": [
    "sortedArray = np.sort(newArray)\n",
    "print(sortedArray)"
   ]
  },
  {
   "cell_type": "markdown",
   "metadata": {},
   "source": [
    "12. Unpack the array tuples from the above 'reshapedArray' into 4 well named variables. Print the 4 variables."
   ]
  },
  {
   "cell_type": "code",
   "execution_count": 43,
   "metadata": {},
   "outputs": [
    {
     "name": "stdout",
     "output_type": "stream",
     "text": [
      "[1 2 3]\n",
      "[4 5 6]\n",
      "[7 8 9]\n",
      "[10 11 12]\n"
     ]
    }
   ],
   "source": [
    "reshape_array = reshaped_array.reshape(4,3)\n",
    "green, blue, yellow, orange = reshape_array\n",
    "print(green)\n",
    "print(blue)\n",
    "print(yellow)\n",
    "print(orange)"
   ]
  },
  {
   "cell_type": "markdown",
   "metadata": {},
   "source": [
    "13. Combined and sort the following arrays into one called 'comboArray' ..."
   ]
  },
  {
   "cell_type": "code",
   "execution_count": 44,
   "metadata": {},
   "outputs": [
    {
     "name": "stdout",
     "output_type": "stream",
     "text": [
      "[ 0  1  2  3  4  5  6  7 10 11 12 13 14 15 16 17 20 21 22 23 24 25 26 27]\n"
     ]
    }
   ],
   "source": [
    "a = ([10, 11, 12, 13, 14, 15, 16, 17])\n",
    "b = ([20, 21, 22, 23, 24, 25, 26, 27])\n",
    "c = ([ 0, 1, 2, 3, 4, 5, 6, 7])\n",
    "\n",
    "comboArray = np.concatenate((a, b, c))\n",
    "print(np.sort(comboArray))"
   ]
  },
  {
   "cell_type": "markdown",
   "metadata": {},
   "source": [
    "14. Take 'comboArray' and perform the following slicing activities:"
   ]
  },
  {
   "cell_type": "code",
   "execution_count": 46,
   "metadata": {},
   "outputs": [
    {
     "name": "stdout",
     "output_type": "stream",
     "text": [
      "Sec1: 11\n",
      "Sec2: [14 15 16 17 20 21 22 23 24 25 26 27  0  1  2  3  4  5  6  7]\n",
      "Sec3: [15 16 17 20 21 22 23 24 25 26]\n",
      "Sec4: [2 3 4 5 6 7]\n",
      "Sec5: [15 16 17 20 21 22 23 24 25 26 27  0]\n",
      "Sec6: [4 6]\n",
      "Sec7: [ 7  2 25 20 13]\n"
     ]
    }
   ],
   "source": [
    "# print sec1 - the 2nd element\n",
    "print(\"Sec1:\", comboArray[1])\n",
    "# print sec2 - all elements from the 3rd element to the last\n",
    "print(\"Sec2:\", comboArray[4:])\n",
    "# print sec3 - all elements from the 4th to the 14th elements\n",
    "print(\"Sec3:\", comboArray[5:15])\n",
    "# print sec4 - the last 6 elements\n",
    "print(\"Sec4:\", comboArray[-6:])\n",
    "# print sec5 - all element from #0 up to and including #15, using the negative number method, i.e. taking a section from the end.\n",
    "print(\"Sec5:\", comboArray[-19:-7])\n",
    "# print sec6 - from #20 every even element to the end\n",
    "print(\"Sec6:\", comboArray[20::2])\n",
    "# print sec7 - from the last element moving forward, every 5th element.\n",
    "print(\"Sec7:\", comboArray[::-5])"
   ]
  },
  {
   "cell_type": "markdown",
   "metadata": {},
   "source": [
    "15. Using Series, create a DataFrame that looks like this:\n",
    "\n",
    "Ingredients\tQuantity\tUnit\n",
    "Flour\t4\tcups\n",
    "Milk\t1\tcup\n",
    "Eggs\t2\tlarge\n",
    "Spam\t1\tcan"
   ]
  },
  {
   "cell_type": "code",
   "execution_count": 47,
   "metadata": {},
   "outputs": [],
   "source": [
    "import pandas as pd"
   ]
  },
  {
   "cell_type": "code",
   "execution_count": 48,
   "metadata": {},
   "outputs": [
    {
     "name": "stdout",
     "output_type": "stream",
     "text": [
      "  Ingredients  Quantity   Unit\n",
      "0       Flour         4   Cups\n",
      "1        Milk         1    Cup\n",
      "2        Eggs         2  Large\n",
      "3        Spam         1    Can\n"
     ]
    }
   ],
   "source": [
    "Ingredients = pd.Series(['Flour', 'Milk', 'Eggs', 'Spam'], name = 'Ingredients')\n",
    "Quantity = pd.Series([4, 1, 2, 1], name = 'Quantity')\n",
    "Unit = pd.Series(['Cups', 'Cup', 'Large', 'Can'], name = 'Unit')\n",
    "\n",
    "Dinner = pd.concat([Ingredients, Quantity, Unit], axis = 1)\n",
    "print(Dinner)"
   ]
  },
  {
   "cell_type": "markdown",
   "metadata": {},
   "source": [
    "16. Take this data and create a DataFrame named studentData"
   ]
  },
  {
   "cell_type": "code",
   "execution_count": 49,
   "metadata": {},
   "outputs": [],
   "source": [
    "import pandas as pd"
   ]
  },
  {
   "cell_type": "code",
   "execution_count": 50,
   "metadata": {},
   "outputs": [
    {
     "name": "stdout",
     "output_type": "stream",
     "text": [
      "      Name  Height Qualification  Address  Age        Pets           Sport\n",
      "0      Jai     5.1           Msc    Delhi   21         Dog           Darts\n",
      "1  Janusha     6.2            MA     Doha   23       Bunny      Basketball\n",
      "2   Gaurav     5.1           Msc  Chennai   24  Chinchilla  PaddleBoarding\n",
      "3     Anuj     5.2           Msc    Dakar   21      Parrot         Cricket\n"
     ]
    }
   ],
   "source": [
    "\n",
    "data = {\n",
    "    'Name': ['Jai', 'Janusha', 'Gaurav', 'Anuj'],\n",
    "    'Height': [5.1, 6.2, 5.1, 5.2],\n",
    "    'Qualification': ['Msc', 'MA', 'Msc', 'Msc'],\n",
    "    'Address': ['Delhi', 'Doha', 'Chennai', 'Dakar'],\n",
    "    'Age': [21, 23, 24, 21],\n",
    "    'Pets': ['Dog', 'Bunny', 'Chinchilla', 'Parrot'],\n",
    "    'Sport': ['Darts', 'Basketball', 'PaddleBoarding', 'Cricket']\n",
    "}\n",
    "\n",
    "studentData = pd.DataFrame(data)\n",
    "print(studentData)\n"
   ]
  },
  {
   "cell_type": "code",
   "execution_count": 51,
   "metadata": {},
   "outputs": [],
   "source": [
    "import pandas as pd"
   ]
  },
  {
   "cell_type": "code",
   "execution_count": 59,
   "metadata": {},
   "outputs": [
    {
     "name": "stdout",
     "output_type": "stream",
     "text": [
      "      Name  Height Qualification  Address  Age        Pets           Sport  \\\n",
      "0      Jai     5.1           Msc    Delhi   21         Dog           Darts   \n",
      "1  Janusha     6.2            MA     Doha   23       Bunny      Basketball   \n",
      "2   Gaurav     5.1           Msc  Chennai   24  Chinchilla  PaddleBoarding   \n",
      "3     Anuj     5.2           Msc    Dakar   21      Parrot         Cricket   \n",
      "\n",
      "       Desserts  \n",
      "0     Ice Cream  \n",
      "1  Cashew Fudge  \n",
      "2       Waffles  \n",
      "3  Carrot Halwa  \n"
     ]
    }
   ],
   "source": [
    "import pandas as pd\n",
    "\n",
    "data = {\n",
    "    'Name': ['Jai', 'Janusha', 'Gaurav', 'Anuj'],\n",
    "    'Height': [5.1, 6.2, 5.1, 5.2],\n",
    "    'Qualification': ['Msc', 'MA', 'Msc', 'Msc'],\n",
    "    'Address': ['Delhi', 'Doha', 'Chennai', 'Dakar'],\n",
    "    'Age': [21, 23, 24, 21],\n",
    "    'Pets': ['Dog', 'Bunny', 'Chinchilla', 'Parrot'],\n",
    "    'Sport': ['Darts', 'Basketball', 'PaddleBoarding', 'Cricket']\n",
    "}\n",
    "\n",
    "studentData = pd.DataFrame(data)\n",
    "\n",
    "desserts = [\"Ice Cream\", \"Cashew Fudge\", \"Waffles\", \"Carrot Halwa\"]\n",
    "studentData.insert(7, column='Desserts', value=desserts)\n",
    "\n",
    "print(studentData)\n",
    "\n"
   ]
  },
  {
   "cell_type": "markdown",
   "metadata": {},
   "source": [
    "17. Add a new column to the DataFrame with the following deserts: [\"ice cream\", \"Cashew Fudge\", \"waffels\", \"Carrot Halwa\"]"
   ]
  },
  {
   "cell_type": "code",
   "execution_count": 61,
   "metadata": {},
   "outputs": [
    {
     "name": "stdout",
     "output_type": "stream",
     "text": [
      "      Name  Height Qualification  Address  Age        Pets           Sport  \\\n",
      "0      Jai     5.1           Msc    Delhi   21         Dog           Darts   \n",
      "1  Janusha     6.2            MA     Doha   23       Bunny      Basketball   \n",
      "2   Gaurav     5.1           Msc  Chennai   24  Chinchilla  PaddleBoarding   \n",
      "3     Anuj     5.2           Msc    Dakar   21      Parrot         Cricket   \n",
      "\n",
      "       Desserts  \n",
      "0     Ice Cream  \n",
      "1  Cashew Fudge  \n",
      "2       Waffles  \n",
      "3  Carrot Halwa  \n"
     ]
    }
   ],
   "source": [
    "\n",
    "\n",
    "data = {\n",
    "    'Name': ['Jai', 'Janusha', 'Gaurav', 'Anuj'],\n",
    "    'Height': [5.1, 6.2, 5.1, 5.2],\n",
    "    'Qualification': ['Msc', 'MA', 'Msc', 'Msc'],\n",
    "    'Address': ['Delhi', 'Doha', 'Chennai', 'Dakar'],\n",
    "    'Age': [21, 23, 24, 21],\n",
    "    'Pets': ['Dog', 'Bunny', 'Chinchilla', 'Parrot'],\n",
    "    'Sport': ['Darts', 'Basketball', 'PaddleBoarding', 'Cricket'],\n",
    "    'Desserts': [\"Ice Cream\", \"Cashew Fudge\", \"Waffles\", \"Carrot Halwa\"]\n",
    "}\n",
    "\n",
    "studentData = pd.DataFrame(data)\n",
    "\n",
    "\n",
    "new_desserts = [\"Ice Cream\", \"Cashew Fudge\", \"Waffles\", \"Carrot Halwa\"]\n",
    "studentData['Desserts'] = new_desserts\n",
    "\n",
    "print(studentData)\n"
   ]
  },
  {
   "cell_type": "markdown",
   "metadata": {},
   "source": [
    "18. Sort the 'studentData' DataFrame in Ascending order -- Sorting by column 'Name' and then \"address\""
   ]
  },
  {
   "cell_type": "code",
   "execution_count": 62,
   "metadata": {},
   "outputs": [
    {
     "name": "stdout",
     "output_type": "stream",
     "text": [
      "      Name  Height Qualification  Address  Age        Pets           Sport  \\\n",
      "3     Anuj     5.2           Msc    Dakar   21      Parrot         Cricket   \n",
      "2   Gaurav     5.1           Msc  Chennai   24  Chinchilla  PaddleBoarding   \n",
      "0      Jai     5.1           Msc    Delhi   21         Dog           Darts   \n",
      "1  Janusha     6.2            MA     Doha   23       Bunny      Basketball   \n",
      "\n",
      "       Desserts  \n",
      "3  Carrot Halwa  \n",
      "2       Waffles  \n",
      "0     Ice Cream  \n",
      "1  Cashew Fudge  \n"
     ]
    }
   ],
   "source": [
    "import pandas as pd\n",
    "\n",
    "data = {\n",
    "    'Name': ['Jai', 'Janusha', 'Gaurav', 'Anuj'],\n",
    "    'Height': [5.1, 6.2, 5.1, 5.2],\n",
    "    'Qualification': ['Msc', 'MA', 'Msc', 'Msc'],\n",
    "    'Address': ['Delhi', 'Doha', 'Chennai', 'Dakar'],\n",
    "    'Age': [21, 23, 24, 21],\n",
    "    'Pets': ['Dog', 'Bunny', 'Chinchilla', 'Parrot'],\n",
    "    'Sport': ['Darts', 'Basketball', 'PaddleBoarding', 'Cricket'],\n",
    "    'Desserts': [\"Ice Cream\", \"Cashew Fudge\", \"Waffles\", \"Carrot Halwa\"]\n",
    "}\n",
    "\n",
    "studentData = pd.DataFrame(data)\n",
    "\n",
    "\n",
    "studentData = studentData.sort_values(by=['Name', 'Address'], ascending=[True, True])\n",
    "\n",
    "print(studentData)\n"
   ]
  },
  {
   "cell_type": "markdown",
   "metadata": {},
   "source": [
    "19. Save this DataFrame here below to disc as a .CSV file with the name cows_and_goats.csv:"
   ]
  },
  {
   "cell_type": "code",
   "execution_count": 63,
   "metadata": {},
   "outputs": [],
   "source": [
    "df = pd.DataFrame({'Cows': [12, 20], 'Goats': [22, 19]}, index=['Year 1', 'Year 2'])\n",
    "df.to_csv('cows_and_goats.csv')\n"
   ]
  },
  {
   "cell_type": "markdown",
   "metadata": {},
   "source": [
    "20. (A) Using Pandas, make your own .CSV file with data on vegetables and save it. "
   ]
  },
  {
   "cell_type": "code",
   "execution_count": 64,
   "metadata": {},
   "outputs": [
    {
     "name": "stdout",
     "output_type": "stream",
     "text": [
      "    Vegetables\n",
      "0      Carrots\n",
      "1  Green Beans\n",
      "2       Celery\n",
      "3     Cucumber\n"
     ]
    }
   ],
   "source": [
    "df = pd.DataFrame({'Vegetables': ['Carrots', 'Green Beans', 'Celery', 'Cucumber']})\n",
    "print(df)\n",
    "df.to_csv('Vegetables.csv')"
   ]
  },
  {
   "cell_type": "markdown",
   "metadata": {},
   "source": [
    "20. (B) Using Pandas, make a change to your CSV file, and save a copy with a different name."
   ]
  },
  {
   "cell_type": "code",
   "execution_count": 70,
   "metadata": {},
   "outputs": [
    {
     "name": "stdout",
     "output_type": "stream",
     "text": [
      "Savory_Veggies     Vegetables      Taste\n",
      "0      Carrots        Bad\n",
      "1  Green Beans       Good\n",
      "2       Celery      Great\n",
      "3     Cucumber  Delicious\n"
     ]
    }
   ],
   "source": [
    "Flavor = ['Bad', 'Good', 'Great', 'Delicious']\n",
    "df['Taste'] = Flavor\n",
    "print('Savory_Veggies', df)\n",
    "df.to_csv('Savory_Vegetables.csv')"
   ]
  }
 ],
 "metadata": {
  "kernelspec": {
   "display_name": "Python 3",
   "language": "python",
   "name": "python3"
  },
  "language_info": {
   "codemirror_mode": {
    "name": "ipython",
    "version": 3
   },
   "file_extension": ".py",
   "mimetype": "text/x-python",
   "name": "python",
   "nbconvert_exporter": "python",
   "pygments_lexer": "ipython3",
   "version": "3.12.0"
  }
 },
 "nbformat": 4,
 "nbformat_minor": 2
}
